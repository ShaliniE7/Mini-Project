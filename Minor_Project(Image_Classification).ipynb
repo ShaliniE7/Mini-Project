{
  "nbformat": 4,
  "nbformat_minor": 0,
  "metadata": {
    "colab": {
      "name": "Minor Project(Image Classification).ipynb",
      "provenance": [],
      "collapsed_sections": [],
      "mount_file_id": "1yr85qPWwyfjt8lxH-SIC8woLSqFBfQp3",
      "authorship_tag": "ABX9TyNyhk8t8s8L869uu9KQ18k7",
      "include_colab_link": true
    },
    "kernelspec": {
      "name": "python3",
      "display_name": "Python 3"
    },
    "language_info": {
      "name": "python"
    }
  },
  "cells": [
    {
      "cell_type": "markdown",
      "metadata": {
        "id": "view-in-github",
        "colab_type": "text"
      },
      "source": [
        "<a href=\"https://colab.research.google.com/github/ShaliniE7/Mini-Project/blob/main/Minor_Project(Image_Classification).ipynb\" target=\"_parent\"><img src=\"https://colab.research.google.com/assets/colab-badge.svg\" alt=\"Open In Colab\"/></a>"
      ]
    },
    {
      "cell_type": "markdown",
      "metadata": {
        "id": "wB-9IJPYt-AB"
      },
      "source": [
        "                                                              MINOR PROJECT\n",
        "                                                          IMAGE CLASSIFICATION "
      ]
    },
    {
      "cell_type": "code",
      "metadata": {
        "id": "Mcpr8jSilnHY",
        "colab": {
          "base_uri": "https://localhost:8080/"
        },
        "outputId": "4793b5f7-9065-40e1-e75b-39d0217821ed"
      },
      "source": [
        "!pip install bing-image-downloader"
      ],
      "execution_count": 38,
      "outputs": [
        {
          "output_type": "stream",
          "text": [
            "Requirement already satisfied: bing-image-downloader in /usr/local/lib/python3.7/dist-packages (1.0.4)\n"
          ],
          "name": "stdout"
        }
      ]
    },
    {
      "cell_type": "code",
      "metadata": {
        "id": "0US-oCC1nB53",
        "colab": {
          "base_uri": "https://localhost:8080/"
        },
        "outputId": "1272bc77-f85b-431c-8d76-eb162a29ee4d"
      },
      "source": [
        "!mkdir images"
      ],
      "execution_count": 39,
      "outputs": [
        {
          "output_type": "stream",
          "text": [
            "mkdir: cannot create directory ‘images’: File exists\n"
          ],
          "name": "stdout"
        }
      ]
    },
    {
      "cell_type": "code",
      "metadata": {
        "id": "0mIRMcvNnceO",
        "colab": {
          "base_uri": "https://localhost:8080/"
        },
        "outputId": "7a95df4d-b7d1-4fe1-a86c-d2b4eb204c66"
      },
      "source": [
        "#WEB SCRAPING IMAGE DATA FROM BING\n",
        "\n",
        "from bing_image_downloader import downloader\n",
        "downloader.download(\"pretty sunflower\",limit=30,output_dir='images',adult_filter_off=True)"
      ],
      "execution_count": 40,
      "outputs": [
        {
          "output_type": "stream",
          "text": [
            "\n",
            "\n",
            "[!!]Indexing page: 1\n",
            "\n",
            "[%] Indexed 11 Images on Page 1.\n",
            "\n",
            "===============================================\n",
            "\n",
            "[%] Downloading Image #1 from https://i.pinimg.com/736x/17/c8/4d/17c84d13480c3089ff88654c860cfbdd.jpg\n",
            "[%] File Downloaded !\n",
            "\n",
            "[%] Downloading Image #2 from https://premeditatedleftovers.com/wp-content/uploads/2014/06/lampbird-feeder2.jpg\n",
            "[%] File Downloaded !\n",
            "\n",
            "[%] Downloading Image #3 from http://www.wallpapers13.com/wp-content/uploads/2015/12/Wisteria-Ashikaga-Flower-park-Japan-tree-with-purple-flowers.jpg\n",
            "[%] File Downloaded !\n",
            "\n",
            "[%] Downloading Image #4 from https://cdn.shopify.com/s/files/1/1122/4336/products/Vevet_Queen_2_1024x1024.jpg?v=1454616220\n",
            "[%] File Downloaded !\n",
            "\n",
            "[%] Downloading Image #5 from https://78.media.tumblr.com/4f7dd99d041fbd6ce381de6bad55e59b/tumblr_msjdiuvdPh1s8w66bo1_500.gif\n",
            "[%] File Downloaded !\n",
            "\n",
            "[%] Downloading Image #6 from https://www.bing.com/th/id/OGC.1bcf58b81cd877391bdc2247416ddb38?pid=1.7&amp;rurl=https%3a%2f%2f78.media.tumblr.com%2f4f7dd99d041fbd6ce381de6bad55e59b%2ftumblr_msjdiuvdPh1s8w66bo1_500.gif&amp;ehk=6i8CEt%2bcBb2RyiXLKO5fHcJlEHN3X6anDqIOAVScqO8%3d\n",
            "[!] Issue getting: https://www.bing.com/th/id/OGC.1bcf58b81cd877391bdc2247416ddb38?pid=1.7&amp;rurl=https%3a%2f%2f78.media.tumblr.com%2f4f7dd99d041fbd6ce381de6bad55e59b%2ftumblr_msjdiuvdPh1s8w66bo1_500.gif&amp;ehk=6i8CEt%2bcBb2RyiXLKO5fHcJlEHN3X6anDqIOAVScqO8%3d\n",
            "[!] Error:: HTTP Error 404: Not Found\n",
            "[%] Downloading Image #6 from https://www.wallpapers13.com/wp-content/uploads/2015/12/Pretty-Pink-Rose-Wallpaper-colors-2560X1600-1366x768.jpg\n",
            "[%] File Downloaded !\n",
            "\n",
            "[%] Downloading Image #7 from https://i2.wp.com/www.ecstasycoffee.com/wp-content/uploads/2016/09/Pretty-sunflower-tattoo-design-with-a-bird-flying-above-it..jpg\n",
            "[%] File Downloaded !\n",
            "\n",
            "[%] Downloading Image #8 from http://ohbestdayever.com/wp-content/uploads/2017/12/rustic-sunflower-wedding-centerpiece-ideas.jpg\n",
            "[%] File Downloaded !\n",
            "\n",
            "[%] Downloading Image #9 from https://www.handmadecharlotte.com/wp-content/uploads/2014/05/7-backyard-crafts.jpg\n",
            "[%] File Downloaded !\n",
            "\n",
            "[%] Downloading Image #10 from http://ohbestdayever.com/wp-content/uploads/2017/12/rustic-chic-sunflower-wedding-centerpiece-ideas.jpg\n",
            "[%] File Downloaded !\n",
            "\n",
            "\n",
            "\n",
            "[!!]Indexing page: 2\n",
            "\n",
            "[%] Indexed 10 Images on Page 2.\n",
            "\n",
            "===============================================\n",
            "\n",
            "[%] Downloading Image #11 from http://www.infoescola.com/wp-content/uploads/2010/03/girassol_210235387-1000x664.jpg\n",
            "[%] File Downloaded !\n",
            "\n",
            "[%] Downloading Image #12 from https://i.pinimg.com/736x/9f/1e/34/9f1e3443a3f0ad0dccc555d6c7fe4612.jpg\n",
            "[%] File Downloaded !\n",
            "\n",
            "[%] Downloading Image #13 from http://www.prettydesigns.com/wp-content/uploads/2017/12/37-super-easy-nail-design-ideas-for-short-nails-15.jpg\n",
            "[%] File Downloaded !\n",
            "\n",
            "[%] Downloading Image #14 from https://c.stocksy.com/a/gp5900/z9/2167376.jpg\n",
            "[%] File Downloaded !\n",
            "\n",
            "[%] Downloading Image #15 from http://www.prettydesigns.com/wp-content/uploads/2014/09/Back-Flower-Tattoo.jpg\n",
            "[%] File Downloaded !\n",
            "\n",
            "[%] Downloading Image #16 from https://s2.best-wallpaper.net/wallpaper/iphone/1301/Yellow-flower-sunflower-summer-sunny-blurring-background_iphone_640x960.jpg\n",
            "[%] File Downloaded !\n",
            "\n",
            "[%] Downloading Image #17 from https://ae01.alicdn.com/kf/HTB1IxeaHVXXXXbbXpXXq6xXFXXXv/Professional-High-Skilled-Painter-Handmade-Beautiful-Landscape-Natural-Scenery-Oil-Painting-On-Canvas-For-Living-Room.jpg\n",
            "[%] File Downloaded !\n",
            "\n",
            "[%] Downloading Image #18 from http://www.wallpapers13.com/wp-content/uploads/2018/03/Lotus-pink-flower-green-leaves-pond-Lotus-Flower-HD-Wallpaper-2880x1800-1920x1440.jpg\n",
            "[%] File Downloaded !\n",
            "\n",
            "[%] Downloading Image #19 from http://myamazingthings.com/wp-content/uploads/2018/04/sunflower-decor-2-.jpg\n",
            "[%] File Downloaded !\n",
            "\n",
            "[%] Downloading Image #20 from https://www.holidaycardsapp.com/assets/card/b_day308.png\n",
            "[%] File Downloaded !\n",
            "\n",
            "\n",
            "\n",
            "[!!]Indexing page: 3\n",
            "\n",
            "[%] Indexed 9 Images on Page 3.\n",
            "\n",
            "===============================================\n",
            "\n",
            "[%] Downloading Image #21 from https://i.pinimg.com/736x/f2/9d/cb/f29dcb8044a6f22e676c63d89b0f4557--laptop-backgrounds-laptop-wallpaper.jpg?b=t\n",
            "[%] File Downloaded !\n",
            "\n",
            "[%] Downloading Image #22 from https://www.elegantweddinginvites.com/wedding-blog/wp-content/uploads/2015/12/Seasonal-Wedding-Trend-Sunflower-wedding-decor-ideas.jpg\n",
            "[%] File Downloaded !\n",
            "\n",
            "[%] Downloading Image #23 from http://cooldigitalphotography.com/wp-content/uploads/2013/11/Sunflower8-620x1104.jpg\n",
            "[%] File Downloaded !\n",
            "\n",
            "[%] Downloading Image #24 from http://www.babyshowerideas4u.com/wp-content/uploads/2014/03/turquoise-and-yellow-baby-shower-via-babyshowerideas4u.com-sunflower.jpg\n",
            "[%] File Downloaded !\n",
            "\n",
            "[%] Downloading Image #25 from https://www.wallpapers13.com/wp-content/uploads/2015/12/Sunflower-Field-Sunset-Beautiful-Wallpaper-HD-Flowers-Sunflower-Field-1920x1200.jpg\n",
            "[%] File Downloaded !\n",
            "\n",
            "[%] Downloading Image #26 from http://sweetclipart.com/multisite/sweetclipart/files/sunflower_2.png\n",
            "[%] File Downloaded !\n",
            "\n",
            "[%] Downloading Image #27 from https://www.wallpapers13.com/wp-content/uploads/2015/12/Sunflower-bloom-HD-wallpaper-021-1920x1440.jpg\n",
            "[%] File Downloaded !\n",
            "\n",
            "[%] Downloading Image #28 from https://www.digsdigs.com/photos/2011/10/700-free-last-minute-halloween-pumpkin-carving-templates-and-ideas-6-775x775.jpg\n",
            "[%] File Downloaded !\n",
            "\n",
            "[%] Downloading Image #29 from https://s-media-cache-ak0.pinimg.com/736x/f9/63/12/f9631290efb025e6c40b2af57833ec78.jpg\n",
            "[%] File Downloaded !\n",
            "\n",
            "\n",
            "\n",
            "[!!]Indexing page: 4\n",
            "\n",
            "[%] Indexed 8 Images on Page 4.\n",
            "\n",
            "===============================================\n",
            "\n",
            "[%] Downloading Image #30 from https://i.pinimg.com/736x/f1/7c/b2/f17cb2f3bd0564e1b52e4d1817c3f412--flower-mobile-hd-wallpaper.jpg\n",
            "[%] File Downloaded !\n",
            "\n",
            "\n",
            "\n",
            "[%] Done. Downloaded 30 images.\n",
            "\n",
            "===============================================\n",
            "\n"
          ],
          "name": "stdout"
        }
      ]
    },
    {
      "cell_type": "code",
      "metadata": {
        "id": "S_MrN2mVoVfj",
        "colab": {
          "base_uri": "https://localhost:8080/"
        },
        "outputId": "0110b848-8a00-4ee6-a215-c65065f8d217"
      },
      "source": [
        "downloader.download(\"ice cream cone\",limit=30,output_dir='images',adult_filter_off=True)"
      ],
      "execution_count": 41,
      "outputs": [
        {
          "output_type": "stream",
          "text": [
            "\n",
            "\n",
            "[!!]Indexing page: 1\n",
            "\n",
            "[%] Indexed 10 Images on Page 1.\n",
            "\n",
            "===============================================\n",
            "\n",
            "[%] Downloading Image #1 from https://www.elanriverdistrict.com/app/uploads/2019/01/ian-dooley-281897-unsplash.jpg\n",
            "[%] File Downloaded !\n",
            "\n",
            "[%] Downloading Image #2 from https://tattooblend.com/wp-content/uploads/2016/09/small-ice-cream-cone-tattoo.jpg\n",
            "[%] File Downloaded !\n",
            "\n",
            "[%] Downloading Image #3 from http://www.hersheysfarmmarket.com/department/ice-cream/gmccone.jpg\n",
            "[%] File Downloaded !\n",
            "\n",
            "[%] Downloading Image #4 from https://c2.staticflickr.com/4/3357/4602700664_6d9473e26c_b.jpg\n",
            "[%] File Downloaded !\n",
            "\n",
            "[%] Downloading Image #5 from https://www.askideas.com/media/77/Scary-Ice-Cream-Tattoo-Design.jpg\n",
            "[%] File Downloaded !\n",
            "\n",
            "[%] Downloading Image #6 from https://2.bp.blogspot.com/-qWO6yj1349k/WcVoBIhiZmI/AAAAAAAAWrw/KjKGJ6nNxZ8IEhizhpn_58r41CYQmyFBACLcBGAs/w1200-h630-p-k-no-nu/trader%2Bjoes%2Bpumpkin%2Bginger%2Bmini%2Bice%2Bcream%2Bcones%2Bbox.jpg\n",
            "[%] File Downloaded !\n",
            "\n",
            "[%] Downloading Image #7 from https://www.finewebstores.com/thumbnail.asp?file=assets/images/metalsigns/foodbeverage/98016-classic-99.jpg&amp;maxx=300&amp;maxy=0\n",
            "[%] File Downloaded !\n",
            "\n",
            "[%] Downloading Image #8 from https://catchyfreebies.com/wp-content/uploads/2016/04/10-fun-facts-about-ice-cream-healthy-clean-eating-enjoy-catchyfreebies.jpg\n",
            "[%] File Downloaded !\n",
            "\n",
            "[%] Downloading Image #9 from http://onlyinark.com/wp-content/uploads/2017/05/Best-Ice-Cream-in-Arkansas-Featured-Image.png\n",
            "[%] File Downloaded !\n",
            "\n",
            "[%] Downloading Image #10 from https://i.pinimg.com/736x/bc/9f/95/bc9f9537ab77c67c16ec7ea54aaeae90.jpg\n",
            "[%] File Downloaded !\n",
            "\n",
            "\n",
            "\n",
            "[!!]Indexing page: 2\n",
            "\n",
            "[%] Indexed 10 Images on Page 2.\n",
            "\n",
            "===============================================\n",
            "\n",
            "[%] Downloading Image #11 from https://www.elanriverdistrict.com/app/uploads/2019/01/ian-dooley-281897-unsplash.jpg\n",
            "[%] File Downloaded !\n",
            "\n",
            "[%] Downloading Image #12 from https://tattooblend.com/wp-content/uploads/2016/09/small-ice-cream-cone-tattoo.jpg\n",
            "[%] File Downloaded !\n",
            "\n",
            "[%] Downloading Image #13 from http://www.hersheysfarmmarket.com/department/ice-cream/gmccone.jpg\n",
            "[%] File Downloaded !\n",
            "\n",
            "[%] Downloading Image #14 from https://c2.staticflickr.com/4/3357/4602700664_6d9473e26c_b.jpg\n",
            "[%] File Downloaded !\n",
            "\n",
            "[%] Downloading Image #15 from https://www.askideas.com/media/77/Scary-Ice-Cream-Tattoo-Design.jpg\n",
            "[%] File Downloaded !\n",
            "\n",
            "[%] Downloading Image #16 from https://2.bp.blogspot.com/-qWO6yj1349k/WcVoBIhiZmI/AAAAAAAAWrw/KjKGJ6nNxZ8IEhizhpn_58r41CYQmyFBACLcBGAs/w1200-h630-p-k-no-nu/trader%2Bjoes%2Bpumpkin%2Bginger%2Bmini%2Bice%2Bcream%2Bcones%2Bbox.jpg\n",
            "[%] File Downloaded !\n",
            "\n",
            "[%] Downloading Image #17 from https://www.finewebstores.com/thumbnail.asp?file=assets/images/metalsigns/foodbeverage/98016-classic-99.jpg&amp;maxx=300&amp;maxy=0\n",
            "[%] File Downloaded !\n",
            "\n",
            "[%] Downloading Image #18 from https://catchyfreebies.com/wp-content/uploads/2016/04/10-fun-facts-about-ice-cream-healthy-clean-eating-enjoy-catchyfreebies.jpg\n",
            "[%] File Downloaded !\n",
            "\n",
            "[%] Downloading Image #19 from http://onlyinark.com/wp-content/uploads/2017/05/Best-Ice-Cream-in-Arkansas-Featured-Image.png\n",
            "[%] File Downloaded !\n",
            "\n",
            "[%] Downloading Image #20 from https://i.pinimg.com/736x/bc/9f/95/bc9f9537ab77c67c16ec7ea54aaeae90.jpg\n",
            "[%] File Downloaded !\n",
            "\n",
            "\n",
            "\n",
            "[!!]Indexing page: 3\n",
            "\n",
            "[%] Indexed 9 Images on Page 3.\n",
            "\n",
            "===============================================\n",
            "\n",
            "[%] Downloading Image #21 from https://wallpapershome.com/images/wallpapers/ice-cream-1920x1080-apricot-delicious-4k-15365.jpg\n",
            "[%] File Downloaded !\n",
            "\n",
            "[%] Downloading Image #22 from http://www.lovethispic.com/uploaded_images/145739-Godiva-Chocolate-Ice-Cream.jpg?1\n",
            "[%] File Downloaded !\n",
            "\n",
            "[%] Downloading Image #23 from https://ae01.alicdn.com/kf/HTB1craFmOCYBuNkSnaVq6AMsVXaG/Fake-ice-cream-egg-waffle-model-display-Simulation-food-eggettes-puff-egg-bubble-waffle-model-sample.jpg\n",
            "[%] File Downloaded !\n",
            "\n",
            "[%] Downloading Image #24 from https://www.rachaelraymag.com/.image/c_limit%2Ccs_srgb%2Cfl_progressive%2Cq_auto:good%2Cw_700/MTU3MTQ4NDQ5MTQwMjUzODE0/img_5845.jpg\n",
            "[%] File Downloaded !\n",
            "\n",
            "[%] Downloading Image #25 from http://sweettreatstruck.com/wp-content/uploads/2014/09/nestle-bar-crunch.jpg\n",
            "[%] File Downloaded !\n",
            "\n",
            "[%] Downloading Image #26 from http://cdn.onlyinyourstate.com/wp-content/uploads/2017/06/o-15-16-700x933.jpg\n",
            "[%] File Downloaded !\n",
            "\n",
            "[%] Downloading Image #27 from https://cdn.wonderfuldiy.com/wp-content/uploads/2016/02/Toasted-marshmallow-coconut-milk-sundae.jpg\n",
            "[%] File Downloaded !\n",
            "\n",
            "[%] Downloading Image #28 from https://i.pinimg.com/736x/41/d3/33/41d3333c1ee40f46074863c32b604b85--ice-cream-cone-cake-ice-cream-cakes.jpg\n",
            "[%] File Downloaded !\n",
            "\n",
            "[%] Downloading Image #29 from https://internetpoem.com/img/poems/347/bleezer-s-ice-cream-poem-by-jack-prelutsky.png\n",
            "[%] File Downloaded !\n",
            "\n",
            "\n",
            "\n",
            "[!!]Indexing page: 4\n",
            "\n",
            "[%] Indexed 8 Images on Page 4.\n",
            "\n",
            "===============================================\n",
            "\n",
            "[%] Downloading Image #30 from https://c2.staticflickr.com/4/3357/4602700664_6d9473e26c_b.jpg\n",
            "[%] File Downloaded !\n",
            "\n",
            "\n",
            "\n",
            "[%] Done. Downloaded 30 images.\n",
            "\n",
            "===============================================\n",
            "\n"
          ],
          "name": "stdout"
        }
      ]
    },
    {
      "cell_type": "code",
      "metadata": {
        "id": "Cy86PPAlpzS0",
        "colab": {
          "base_uri": "https://localhost:8080/"
        },
        "outputId": "698d0f15-d79a-43c7-c6af-c9337e6dee89"
      },
      "source": [
        "downloader.download(\"rugby ball leather\",limit=30,output_dir='images',adult_filter_off=True)"
      ],
      "execution_count": 42,
      "outputs": [
        {
          "output_type": "stream",
          "text": [
            "\n",
            "\n",
            "[!!]Indexing page: 1\n",
            "\n",
            "[%] Indexed 10 Images on Page 1.\n",
            "\n",
            "===============================================\n",
            "\n",
            "[%] Downloading Image #1 from http://cdn.shopify.com/s/files/1/0788/5979/products/mvp-leather-balls-heritage-leather-rugby-ball-1_1024x1024.jpg?v=1550134680\n",
            "[%] File Downloaded !\n",
            "\n",
            "[%] Downloading Image #2 from https://cdn.notonthehighstreet.com/system/product_images/images/000/393/351/original_CF016852.jpg\n",
            "[%] File Downloaded !\n",
            "\n",
            "[%] Downloading Image #3 from https://www.upfrontcricket.com/media/catalog/product/cache/1/image/9df78eab33525d08d6e5fb8d27136e95/j/n/jnrclub_cb_edited-2.jpg\n",
            "[%] File Downloaded !\n",
            "\n",
            "[%] Downloading Image #4 from http://www.upfrontcricket.com/media/catalog/product/cache/1/image/9df78eab33525d08d6e5fb8d27136e95/j/n/jnrleague_cb_edited-2.jpg\n",
            "[%] File Downloaded !\n",
            "\n",
            "[%] Downloading Image #5 from https://www.john-woodbridge.com/1536-tm_large_default/leather-vintage-football-allen-1938.jpg\n",
            "[%] File Downloaded !\n",
            "\n",
            "[%] Downloading Image #6 from https://www.prodirectrugby.com/productimages/V3_1_Main/201596_Main_Thumb_0419944.jpg\n",
            "[!] Issue getting: https://www.prodirectrugby.com/productimages/V3_1_Main/201596_Main_Thumb_0419944.jpg\n",
            "[!] Error:: HTTP Error 403: Forbidden\n",
            "[%] Downloading Image #6 from https://www.prodirectrugby.com/productimages/V3_1_Main/82143.jpg\n",
            "[!] Issue getting: https://www.prodirectrugby.com/productimages/V3_1_Main/82143.jpg\n",
            "[!] Error:: HTTP Error 403: Forbidden\n",
            "[%] Downloading Image #6 from https://cdn.thinglink.me/api/image/586569159714799617/1240/10/scaletowidth\n",
            "[%] File Downloaded !\n",
            "\n",
            "[%] Downloading Image #7 from http://www.landle.com/photo/pl19706796-custom_printed_volleyballs_18_panel_personalized_volleyball_ball.jpg\n",
            "[%] File Downloaded !\n",
            "\n",
            "[%] Downloading Image #8 from https://www.prodirectrugby.com/productimages/V3_1_Main/54935.jpg\n",
            "[!] Issue getting: https://www.prodirectrugby.com/productimages/V3_1_Main/54935.jpg\n",
            "[!] Error:: HTTP Error 403: Forbidden\n",
            "\n",
            "\n",
            "[!!]Indexing page: 2\n",
            "\n",
            "[%] Indexed 9 Images on Page 2.\n",
            "\n",
            "===============================================\n",
            "\n",
            "[%] Downloading Image #8 from http://footballcollectorsitems.com/images/football/victorian-leather-football.jpg\n",
            "[%] File Downloaded !\n",
            "\n",
            "[%] Downloading Image #9 from https://cdn.shopify.com/s/files/1/0068/0227/6407/products/48432105_Ball_Supporter_6_Nations_Guinness_Size_5_1024x1024.jpg?v=1578402695\n",
            "[%] File Downloaded !\n",
            "\n",
            "[%] Downloading Image #10 from https://www.mullocksauctions.co.uk/cd-content/uploads/images/lots/SM-05Sept2012D/1173.jpg\n",
            "[%] File Downloaded !\n",
            "\n",
            "[%] Downloading Image #11 from https://www.molten.co.jp/sports/en/basketball/product/basketball/detail/img/bgg7x_480480_ph006.jpg\n",
            "[%] File Downloaded !\n",
            "\n",
            "[%] Downloading Image #12 from https://www.allsportvintage.com/460-thickbox_default/vintage-leather-hand-ball.jpg\n",
            "[%] File Downloaded !\n",
            "\n",
            "[%] Downloading Image #13 from https://upload.wikimedia.org/wikipedia/commons/thumb/3/35/Richard_Lindon_(1816-1887).jpg/1200px-Richard_Lindon_(1816-1887).jpg\n",
            "[%] File Downloaded !\n",
            "\n",
            "[%] Downloading Image #14 from http://www.prodirectrugby.com/productimages/V3_1_Main/82143.jpg\n",
            "[!] Issue getting: http://www.prodirectrugby.com/productimages/V3_1_Main/82143.jpg\n",
            "[!] Error:: HTTP Error 403: Forbidden\n",
            "[%] Downloading Image #14 from http://thefunnybeaver.com/wp-content/uploads/2016/04/Tin-Cup-Golf-Ball-Custom-Marker-Alignment-Tool-pictures-005.jpg\n",
            "[%] File Downloaded !\n",
            "\n",
            "[%] Downloading Image #15 from https://static.vecteezy.com/system/resources/previews/000/076/176/original/soccer-ball-vector.jpg\n",
            "[%] File Downloaded !\n",
            "\n",
            "\n",
            "\n",
            "[!!]Indexing page: 3\n",
            "\n",
            "[%] Indexed 8 Images on Page 3.\n",
            "\n",
            "===============================================\n",
            "\n",
            "[%] Downloading Image #16 from https://cdn.shopify.com/s/files/1/0068/0227/6407/products/48432105_Ball_Supporter_6_Nations_Guinness_Size_5_1024x1024.jpg?v=1578402695\n",
            "[%] File Downloaded !\n",
            "\n",
            "[%] Downloading Image #17 from https://www.mullocksauctions.co.uk/cd-content/uploads/images/lots/SM-05Sept2012D/1173.jpg\n",
            "[%] File Downloaded !\n",
            "\n",
            "[%] Downloading Image #18 from https://www.molten.co.jp/sports/en/basketball/product/basketball/detail/img/bgg7x_480480_ph006.jpg\n",
            "[%] File Downloaded !\n",
            "\n",
            "[%] Downloading Image #19 from https://www.allsportvintage.com/460-thickbox_default/vintage-leather-hand-ball.jpg\n",
            "[%] File Downloaded !\n",
            "\n",
            "[%] Downloading Image #20 from https://upload.wikimedia.org/wikipedia/commons/thumb/3/35/Richard_Lindon_(1816-1887).jpg/1200px-Richard_Lindon_(1816-1887).jpg\n",
            "[%] File Downloaded !\n",
            "\n",
            "[%] Downloading Image #21 from http://www.prodirectrugby.com/productimages/V3_1_Main/82143.jpg\n",
            "[!] Issue getting: http://www.prodirectrugby.com/productimages/V3_1_Main/82143.jpg\n",
            "[!] Error:: HTTP Error 403: Forbidden\n",
            "[%] Downloading Image #21 from http://thefunnybeaver.com/wp-content/uploads/2016/04/Tin-Cup-Golf-Ball-Custom-Marker-Alignment-Tool-pictures-005.jpg\n",
            "[%] File Downloaded !\n",
            "\n",
            "[%] Downloading Image #22 from https://static.vecteezy.com/system/resources/previews/000/076/176/original/soccer-ball-vector.jpg\n",
            "[%] File Downloaded !\n",
            "\n",
            "\n",
            "\n",
            "[!!]Indexing page: 4\n",
            "\n",
            "[%] Indexed 7 Images on Page 4.\n",
            "\n",
            "===============================================\n",
            "\n",
            "[%] Downloading Image #23 from https://www.mullocksauctions.co.uk/cd-content/uploads/images/lots/SM-05Sept2012D/1173.jpg\n",
            "[%] File Downloaded !\n",
            "\n",
            "[%] Downloading Image #24 from https://www.molten.co.jp/sports/en/basketball/product/basketball/detail/img/bgg7x_480480_ph006.jpg\n",
            "[%] File Downloaded !\n",
            "\n",
            "[%] Downloading Image #25 from https://www.allsportvintage.com/460-thickbox_default/vintage-leather-hand-ball.jpg\n",
            "[%] File Downloaded !\n",
            "\n",
            "[%] Downloading Image #26 from https://upload.wikimedia.org/wikipedia/commons/thumb/3/35/Richard_Lindon_(1816-1887).jpg/1200px-Richard_Lindon_(1816-1887).jpg\n",
            "[%] File Downloaded !\n",
            "\n",
            "[%] Downloading Image #27 from http://www.prodirectrugby.com/productimages/V3_1_Main/82143.jpg\n",
            "[!] Issue getting: http://www.prodirectrugby.com/productimages/V3_1_Main/82143.jpg\n",
            "[!] Error:: HTTP Error 403: Forbidden\n",
            "[%] Downloading Image #27 from http://thefunnybeaver.com/wp-content/uploads/2016/04/Tin-Cup-Golf-Ball-Custom-Marker-Alignment-Tool-pictures-005.jpg\n",
            "[%] File Downloaded !\n",
            "\n",
            "[%] Downloading Image #28 from https://static.vecteezy.com/system/resources/previews/000/076/176/original/soccer-ball-vector.jpg\n",
            "[%] File Downloaded !\n",
            "\n",
            "\n",
            "\n",
            "[!!]Indexing page: 5\n",
            "\n",
            "[%] Indexed 6 Images on Page 5.\n",
            "\n",
            "===============================================\n",
            "\n",
            "[%] Downloading Image #29 from https://www.molten.co.jp/sports/en/basketball/product/basketball/detail/img/bgg7x_480480_ph006.jpg\n",
            "[%] File Downloaded !\n",
            "\n",
            "[%] Downloading Image #30 from https://www.allsportvintage.com/460-thickbox_default/vintage-leather-hand-ball.jpg\n",
            "[%] File Downloaded !\n",
            "\n",
            "\n",
            "\n",
            "[%] Done. Downloaded 30 images.\n",
            "\n",
            "===============================================\n",
            "\n"
          ],
          "name": "stdout"
        }
      ]
    },
    {
      "cell_type": "code",
      "metadata": {
        "id": "mHJAwcPSrh-g"
      },
      "source": [
        "#PREPROCESSING\n",
        "\n",
        "import os\n",
        "import numpy as np\n",
        "import pandas as pd\n",
        "import matplotlib.pyplot as plt\n",
        "from skimage.io import imread\n",
        "from skimage.transform import resize\n",
        "target = [] #Output\n",
        "images = [] #Input\n",
        "flat_data = [] \n",
        "DATADIR ='/content/images'\n",
        "CATEGORIES =['pretty sunflower','ice cream cone','rugby ball leather']\n",
        "\n",
        "for category in CATEGORIES:\n",
        "  class_num =CATEGORIES.index(category)#Label Encoding\n",
        "  path=os.path.join(DATADIR,category)#Creating path\n",
        "  #print(path)\n",
        "  for img in os.listdir(path):\n",
        "    img_array=imread(os.path.join(path,img))\n",
        "    #print(img_array)\n",
        "    #print(img_array.shape)\n",
        "    #plt.imshow(img_array)\n",
        "    #break\n",
        "\n",
        "    img_resized = resize(img_array,(150,150,3))#Normalizes\n",
        "    flat_data.append(np.ndarray.flatten(img_resized))#Flattens\n",
        "    target.append(class_num)\n",
        "    images.append(img_resized)\n",
        "    #plt.imshow(img_resized)\n",
        "    #plt.show()\n",
        "\n",
        "flat_data = np.array(flat_data)\n",
        "target = np.array(target)\n",
        "images = np.array(images)\n"
      ],
      "execution_count": 43,
      "outputs": []
    },
    {
      "cell_type": "code",
      "metadata": {
        "id": "-DF_U2W5yerH",
        "colab": {
          "base_uri": "https://localhost:8080/"
        },
        "outputId": "4f501975-2cb2-49e9-edc7-23963c9b3b72"
      },
      "source": [
        "len(flat_data[0]) #checking"
      ],
      "execution_count": 44,
      "outputs": [
        {
          "output_type": "execute_result",
          "data": {
            "text/plain": [
              "67500"
            ]
          },
          "metadata": {
            "tags": []
          },
          "execution_count": 44
        }
      ]
    },
    {
      "cell_type": "code",
      "metadata": {
        "colab": {
          "base_uri": "https://localhost:8080/"
        },
        "id": "-MAH_YF37iXN",
        "outputId": "7780c2ce-246a-43e7-f8fb-58f645ee9a75"
      },
      "source": [
        "target"
      ],
      "execution_count": 45,
      "outputs": [
        {
          "output_type": "execute_result",
          "data": {
            "text/plain": [
              "array([0, 0, 0, 0, 0, 0, 0, 0, 0, 0, 0, 0, 0, 0, 0, 0, 0, 0, 0, 0, 0, 0,\n",
              "       0, 0, 0, 0, 0, 0, 0, 0, 0, 0, 0, 0, 0, 0, 1, 1, 1, 1, 1, 1, 1, 1,\n",
              "       1, 1, 1, 1, 1, 1, 1, 1, 1, 1, 1, 1, 1, 1, 1, 1, 1, 1, 1, 1, 1, 1,\n",
              "       1, 1, 1, 1, 1, 1, 2, 2, 2, 2, 2, 2, 2, 2, 2, 2, 2, 2, 2, 2, 2, 2,\n",
              "       2, 2, 2, 2, 2, 2, 2, 2, 2, 2, 2, 2, 2, 2, 2, 2, 2])"
            ]
          },
          "metadata": {
            "tags": []
          },
          "execution_count": 45
        }
      ]
    },
    {
      "cell_type": "code",
      "metadata": {
        "colab": {
          "base_uri": "https://localhost:8080/",
          "height": 282
        },
        "id": "jl-amYn572cT",
        "outputId": "f8530d01-1482-46a3-97e5-59031e962300"
      },
      "source": [
        "unique,count=np.unique(target,return_counts=True)\n",
        "plt.bar(CATEGORIES,count)"
      ],
      "execution_count": 46,
      "outputs": [
        {
          "output_type": "execute_result",
          "data": {
            "text/plain": [
              "<BarContainer object of 3 artists>"
            ]
          },
          "metadata": {
            "tags": []
          },
          "execution_count": 46
        },
        {
          "output_type": "display_data",
          "data": {
            "image/png": "[encoded data removed]",
            "text/plain": [
              "<Figure size 432x288 with 1 Axes>"
            ]
          },
          "metadata": {
            "tags": [],
            "needs_background": "light"
          }
        }
      ]
    },
    {
      "cell_type": "code",
      "metadata": {
        "id": "YlI_mII98JLk"
      },
      "source": [
        "#Spliting data into Training and Testing\n",
        "from sklearn.model_selection import train_test_split\n",
        "x_train,x_test,y_train,y_test = train_test_split(flat_data,target,test_size=0.3,random_state=109)"
      ],
      "execution_count": 47,
      "outputs": []
    },
    {
      "cell_type": "code",
      "metadata": {
        "colab": {
          "base_uri": "https://localhost:8080/"
        },
        "id": "Cnv19-_69hVp",
        "outputId": "8cfa0645-1f39-4683-e3b6-a40d66110078"
      },
      "source": [
        "#SVM\n",
        "from sklearn.model_selection import GridSearchCV\n",
        "from sklearn import svm\n",
        "param_grid = [{'C':[1,10,100,1000],'kernel':['linear']},\n",
        "              {'C':[1,10,100,1000],'gamma':[0.001,0.0001],'kernel':['rbf']}\n",
        "              ]\n",
        "svc = svm.SVC(probability=True) \n",
        "clf = GridSearchCV(svc,param_grid)\n",
        "clf.fit(x_train,y_train)"
      ],
      "execution_count": 48,
      "outputs": [
        {
          "output_type": "execute_result",
          "data": {
            "text/plain": [
              "GridSearchCV(cv=None, error_score=nan,\n",
              "             estimator=SVC(C=1.0, break_ties=False, cache_size=200,\n",
              "                           class_weight=None, coef0=0.0,\n",
              "                           decision_function_shape='ovr', degree=3,\n",
              "                           gamma='scale', kernel='rbf', max_iter=-1,\n",
              "                           probability=True, random_state=None, shrinking=True,\n",
              "                           tol=0.001, verbose=False),\n",
              "             iid='deprecated', n_jobs=None,\n",
              "             param_grid=[{'C': [1, 10, 100, 1000], 'kernel': ['linear']},\n",
              "                         {'C': [1, 10, 100, 1000], 'gamma': [0.001, 0.0001],\n",
              "                          'kernel': ['rbf']}],\n",
              "             pre_dispatch='2*n_jobs', refit=True, return_train_score=False,\n",
              "             scoring=None, verbose=0)"
            ]
          },
          "metadata": {
            "tags": []
          },
          "execution_count": 48
        }
      ]
    },
    {
      "cell_type": "code",
      "metadata": {
        "colab": {
          "base_uri": "https://localhost:8080/"
        },
        "id": "TrSV8J28-fDP",
        "outputId": "cea60031-de02-4a77-940d-6d259c036eef"
      },
      "source": [
        "y_pred = clf.predict(x_test)\n",
        "y_pred"
      ],
      "execution_count": 49,
      "outputs": [
        {
          "output_type": "execute_result",
          "data": {
            "text/plain": [
              "array([0, 0, 0, 0, 1, 2, 1, 2, 1, 2, 1, 0, 2, 0, 0, 0, 0, 0, 1, 2, 2, 0,\n",
              "       1, 2, 0, 0, 0, 2, 1, 1, 0, 2])"
            ]
          },
          "metadata": {
            "tags": []
          },
          "execution_count": 49
        }
      ]
    },
    {
      "cell_type": "code",
      "metadata": {
        "colab": {
          "base_uri": "https://localhost:8080/"
        },
        "id": "oMLq0GZU-7-5",
        "outputId": "9bf4ad34-3360-4e32-8055-36b935772554"
      },
      "source": [
        "y_test"
      ],
      "execution_count": 50,
      "outputs": [
        {
          "output_type": "execute_result",
          "data": {
            "text/plain": [
              "array([0, 1, 0, 1, 1, 2, 1, 2, 1, 2, 1, 2, 2, 0, 0, 0, 0, 0, 1, 2, 2, 2,\n",
              "       1, 2, 0, 0, 0, 2, 1, 1, 0, 2])"
            ]
          },
          "metadata": {
            "tags": []
          },
          "execution_count": 50
        }
      ]
    },
    {
      "cell_type": "code",
      "metadata": {
        "colab": {
          "base_uri": "https://localhost:8080/"
        },
        "id": "GDZer3VW--5f",
        "outputId": "ccc7f761-e5e4-4e24-c650-79256020e1b1"
      },
      "source": [
        "from sklearn.metrics import accuracy_score,confusion_matrix\n",
        "confusion_matrix(y_pred,y_test)"
      ],
      "execution_count": 51,
      "outputs": [
        {
          "output_type": "execute_result",
          "data": {
            "text/plain": [
              "array([[11,  2,  2],\n",
              "       [ 0,  8,  0],\n",
              "       [ 0,  0,  9]])"
            ]
          },
          "metadata": {
            "tags": []
          },
          "execution_count": 51
        }
      ]
    },
    {
      "cell_type": "code",
      "metadata": {
        "colab": {
          "base_uri": "https://localhost:8080/"
        },
        "id": "Kk_7vTGZ_a73",
        "outputId": "e88a3eb6-6b18-42a5-f279-47fb6d64a8fd"
      },
      "source": [
        "accuracy_score(y_pred,y_test)"
      ],
      "execution_count": 52,
      "outputs": [
        {
          "output_type": "execute_result",
          "data": {
            "text/plain": [
              "0.875"
            ]
          },
          "metadata": {
            "tags": []
          },
          "execution_count": 52
        }
      ]
    },
    {
      "cell_type": "code",
      "metadata": {
        "colab": {
          "base_uri": "https://localhost:8080/"
        },
        "id": "MrigLH8-_hCI",
        "outputId": "1fdd3598-3dce-456f-bd54-e95e7b45f062"
      },
      "source": [
        "#XGBoost\n",
        "\n",
        "from xgboost import XGBClassifier\n",
        "model = XGBClassifier()\n",
        "model.fit(x_train,y_train)\n",
        "y_pred = model.predict(x_test)\n",
        "confusion_matrix(y_pred,y_test)\n",
        "accuracy_score(y_pred,y_test)"
      ],
      "execution_count": 53,
      "outputs": [
        {
          "output_type": "execute_result",
          "data": {
            "text/plain": [
              "0.90625"
            ]
          },
          "metadata": {
            "tags": []
          },
          "execution_count": 53
        }
      ]
    },
    {
      "cell_type": "code",
      "metadata": {
        "id": "S0UmlwWA_x_h"
      },
      "source": [
        "#Saving model using pickle library\n",
        "import pickle\n",
        "pickle.dump(clf,open('img_model.p','wb'))"
      ],
      "execution_count": 54,
      "outputs": []
    },
    {
      "cell_type": "code",
      "metadata": {
        "id": "a3OwTFE2AG4s"
      },
      "source": [
        "model=pickle.load(open('img_model.p','rb'))"
      ],
      "execution_count": 55,
      "outputs": []
    },
    {
      "cell_type": "code",
      "metadata": {
        "id": "msdsRUvQAa00"
      },
      "source": [
        " #Testing new image\n",
        "flat_data =[]\n",
        "url = input('Enter your URL')\n",
        "img = imread(url)\n",
        "img_resized =resize(img,(150,150,3))\n",
        "flat_data.append(img_resized.flatten())\n",
        "flat_data = np.array(flat_data)\n",
        "print(img.shape)\n",
        "plt.imshow(img_resized)\n",
        "y_out = model.predict(flat_data)\n",
        "y_out = CATEGORIES[y_out[0]]\n",
        "print(f' PREDICTED OUTPUT: {y_out}')"
      ],
      "execution_count": null,
      "outputs": []
    },
    {
      "cell_type": "code",
      "metadata": {
        "id": "u11Hc7P3ZY9g"
      },
      "source": [
        ""
      ],
      "execution_count": null,
      "outputs": []
    }
  ]
}